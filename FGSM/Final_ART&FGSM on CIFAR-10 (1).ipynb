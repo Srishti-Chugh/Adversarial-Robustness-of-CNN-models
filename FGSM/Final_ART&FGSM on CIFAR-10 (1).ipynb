{
 "cells": [
  {
   "cell_type": "code",
   "execution_count": 1,
   "id": "ade992a7-dba2-4a0c-840d-23c2b33807e6",
   "metadata": {},
   "outputs": [
    {
     "name": "stderr",
     "output_type": "stream",
     "text": [
      "D:\\Tarun\\Desktop\\mlProj\\my_venv\\Lib\\site-packages\\tqdm\\auto.py:21: TqdmWarning: IProgress not found. Please update jupyter and ipywidgets. See https://ipywidgets.readthedocs.io/en/stable/user_install.html\n",
      "  from .autonotebook import tqdm as notebook_tqdm\n"
     ]
    }
   ],
   "source": [
    "import numpy as np\n",
    "import tensorflow as tf\n",
    "from art.attacks.evasion import FastGradientMethod\n",
    "from art.estimators.classification import TensorFlowV2Classifier\n",
    "import matplotlib.pyplot as plt"
   ]
  },
  {
   "cell_type": "code",
   "execution_count": 2,
   "id": "12d2a96d-1199-41f6-b730-8fa2f53dc2a9",
   "metadata": {},
   "outputs": [],
   "source": [
    "# Load CIFAR-10 dataset\n",
    "(x_train, y_train), (x_test, y_test) = tf.keras.datasets.cifar10.load_data()\n"
   ]
  },
  {
   "cell_type": "code",
   "execution_count": 3,
   "id": "8233b4c5-c59c-4128-8a2b-221f9c652fe5",
   "metadata": {},
   "outputs": [],
   "source": [
    "# Preprocess data\n",
    "x_train = x_train.astype(\"float32\") / 255.0\n",
    "x_test = x_test.astype(\"float32\") / 255.0\n",
    "y_train = tf.keras.utils.to_categorical(y_train, 10)\n",
    "y_test = tf.keras.utils.to_categorical(y_test, 10)"
   ]
  },
  {
   "cell_type": "code",
   "execution_count": 4,
   "id": "8e8462c5-7687-4d88-94f7-b0f8d4253aef",
   "metadata": {},
   "outputs": [
    {
     "name": "stderr",
     "output_type": "stream",
     "text": [
      "D:\\Tarun\\Desktop\\mlProj\\my_venv\\Lib\\site-packages\\keras\\src\\layers\\convolutional\\base_conv.py:107: UserWarning: Do not pass an `input_shape`/`input_dim` argument to a layer. When using Sequential models, prefer using an `Input(shape)` object as the first layer in the model instead.\n",
      "  super().__init__(activity_regularizer=activity_regularizer, **kwargs)\n"
     ]
    }
   ],
   "source": [
    "# Create a simple CNN model (you can replace this with your own trained model)\n",
    "model = tf.keras.Sequential([\n",
    "    tf.keras.layers.Conv2D(32, (3, 3), activation=\"relu\", input_shape=(32, 32, 3)),\n",
    "    tf.keras.layers.MaxPooling2D((2, 2)),\n",
    "    tf.keras.layers.Flatten(),\n",
    "    tf.keras.layers.Dense(128, activation=\"relu\"),\n",
    "    tf.keras.layers.Dense(10, activation=\"softmax\")\n",
    "])"
   ]
  },
  {
   "cell_type": "code",
   "execution_count": 5,
   "id": "1d341efa-4ec9-4b2a-9c8a-a61c1f520e4d",
   "metadata": {},
   "outputs": [],
   "source": [
    "# Compile the model\n",
    "model.compile(optimizer=\"adam\", loss=\"categorical_crossentropy\", metrics=[\"accuracy\"])"
   ]
  },
  {
   "cell_type": "code",
   "execution_count": 6,
   "id": "299a3b90-6c04-4cde-b20e-c21cec113cd4",
   "metadata": {},
   "outputs": [
    {
     "name": "stdout",
     "output_type": "stream",
     "text": [
      "Epoch 1/10\n",
      "\u001b[1m704/704\u001b[0m \u001b[32m━━━━━━━━━━━━━━━━━━━━\u001b[0m\u001b[37m\u001b[0m \u001b[1m11s\u001b[0m 10ms/step - accuracy: 0.3717 - loss: 1.7575 - val_accuracy: 0.5492 - val_loss: 1.2828\n",
      "Epoch 2/10\n",
      "\u001b[1m704/704\u001b[0m \u001b[32m━━━━━━━━━━━━━━━━━━━━\u001b[0m\u001b[37m\u001b[0m \u001b[1m7s\u001b[0m 10ms/step - accuracy: 0.5598 - loss: 1.2458 - val_accuracy: 0.5958 - val_loss: 1.1661\n",
      "Epoch 3/10\n",
      "\u001b[1m704/704\u001b[0m \u001b[32m━━━━━━━━━━━━━━━━━━━━\u001b[0m\u001b[37m\u001b[0m \u001b[1m7s\u001b[0m 10ms/step - accuracy: 0.6141 - loss: 1.1133 - val_accuracy: 0.6122 - val_loss: 1.1415\n",
      "Epoch 4/10\n",
      "\u001b[1m704/704\u001b[0m \u001b[32m━━━━━━━━━━━━━━━━━━━━\u001b[0m\u001b[37m\u001b[0m \u001b[1m7s\u001b[0m 10ms/step - accuracy: 0.6446 - loss: 1.0185 - val_accuracy: 0.6022 - val_loss: 1.1531\n",
      "Epoch 5/10\n",
      "\u001b[1m704/704\u001b[0m \u001b[32m━━━━━━━━━━━━━━━━━━━━\u001b[0m\u001b[37m\u001b[0m \u001b[1m7s\u001b[0m 10ms/step - accuracy: 0.6772 - loss: 0.9259 - val_accuracy: 0.6322 - val_loss: 1.0532\n",
      "Epoch 6/10\n",
      "\u001b[1m704/704\u001b[0m \u001b[32m━━━━━━━━━━━━━━━━━━━━\u001b[0m\u001b[37m\u001b[0m \u001b[1m7s\u001b[0m 10ms/step - accuracy: 0.6970 - loss: 0.8710 - val_accuracy: 0.6382 - val_loss: 1.0558\n",
      "Epoch 7/10\n",
      "\u001b[1m704/704\u001b[0m \u001b[32m━━━━━━━━━━━━━━━━━━━━\u001b[0m\u001b[37m\u001b[0m \u001b[1m7s\u001b[0m 10ms/step - accuracy: 0.7223 - loss: 0.7928 - val_accuracy: 0.6608 - val_loss: 1.0053\n",
      "Epoch 8/10\n",
      "\u001b[1m704/704\u001b[0m \u001b[32m━━━━━━━━━━━━━━━━━━━━\u001b[0m\u001b[37m\u001b[0m \u001b[1m7s\u001b[0m 10ms/step - accuracy: 0.7392 - loss: 0.7494 - val_accuracy: 0.6376 - val_loss: 1.0765\n",
      "Epoch 9/10\n",
      "\u001b[1m704/704\u001b[0m \u001b[32m━━━━━━━━━━━━━━━━━━━━\u001b[0m\u001b[37m\u001b[0m \u001b[1m7s\u001b[0m 10ms/step - accuracy: 0.7610 - loss: 0.6935 - val_accuracy: 0.6558 - val_loss: 1.0442\n",
      "Epoch 10/10\n",
      "\u001b[1m704/704\u001b[0m \u001b[32m━━━━━━━━━━━━━━━━━━━━\u001b[0m\u001b[37m\u001b[0m \u001b[1m7s\u001b[0m 10ms/step - accuracy: 0.7728 - loss: 0.6527 - val_accuracy: 0.6560 - val_loss: 1.0503\n"
     ]
    },
    {
     "data": {
      "text/plain": [
       "<keras.src.callbacks.history.History at 0x2500929ab70>"
      ]
     },
     "execution_count": 6,
     "metadata": {},
     "output_type": "execute_result"
    }
   ],
   "source": [
    "# Train the model\n",
    "model.fit(x_train, y_train, epochs=10, validation_split=0.1, batch_size=64)"
   ]
  },
  {
   "cell_type": "code",
   "execution_count": 7,
   "id": "5d6d9709-35a9-4918-ae9f-9d363d2a1e79",
   "metadata": {},
   "outputs": [],
   "source": [
    "# Define the loss function\n",
    "loss_object = tf.keras.losses.CategoricalCrossentropy()"
   ]
  },
  {
   "cell_type": "code",
   "execution_count": 8,
   "id": "14dd6588-0f55-43b1-8f6c-358063a5e4e9",
   "metadata": {},
   "outputs": [],
   "source": [
    "# Create ART classifier with loss function\n",
    "classifier = TensorFlowV2Classifier(model=model, nb_classes=10, input_shape=(32, 32, 3), loss_object=loss_object)\n"
   ]
  },
  {
   "cell_type": "code",
   "execution_count": 9,
   "id": "ed77a9a9-acae-4155-86c5-49b57b7e6092",
   "metadata": {},
   "outputs": [],
   "source": [
    "# Initialize FGSM attack\n",
    "attack = FastGradientMethod(estimator=classifier)"
   ]
  },
  {
   "cell_type": "code",
   "execution_count": 12,
   "id": "fe942eac-f171-4256-a296-63f9fedc757a",
   "metadata": {},
   "outputs": [],
   "source": [
    "# Iterate over a larger range of delta values\n",
    "delta_values = np.linspace(0.01, 1.0, num=100)\n",
    "accuracies = []\n",
    "\n",
    "for delta in delta_values:\n",
    "    # Update the attack with the current delta value\n",
    "    attack.set_params(**{'eps': delta})\n",
    "\n",
    "    # Generate adversarial examples\n",
    "    x_adv = attack.generate(x=x_test)\n",
    "\n",
    "    # Evaluate model accuracy on adversarial examples\n",
    "    accuracy = np.mean(np.argmax(classifier.predict(x_adv), axis=1) == np.argmax(y_test, axis=1))\n",
    "    accuracies.append(accuracy)"
   ]
  },
  {
   "cell_type": "code",
   "execution_count": 13,
   "id": "6e4f9a14-9fc9-475f-b48a-50adb96618ca",
   "metadata": {},
   "outputs": [],
   "source": [
    "# Identify the maximum delta value where accuracy drops below 10%\n",
    "threshold_accuracy = 0.1\n",
    "max_delta_fail = delta_values[np.where(np.array(accuracies) <= threshold_accuracy)[0][0]]"
   ]
  },
  {
   "cell_type": "code",
   "execution_count": 14,
   "id": "c0f22109-85cd-4a89-9d89-3310f064de9e",
   "metadata": {},
   "outputs": [
    {
     "data": {
      "image/png": "[encoded data removed]",
      "text/plain": [
       "<Figure size 640x480 with 1 Axes>"
      ]
     },
     "metadata": {},
     "output_type": "display_data"
    },
    {
     "name": "stdout",
     "output_type": "stream",
     "text": [
      "Maximum delta value after which the model fails (accuracy <= 10%): 0.28\n"
     ]
    }
   ],
   "source": [
    "# Plot the graph\n",
    "plt.plot(delta_values, accuracies, marker=\"o\")\n",
    "plt.axhline(y=threshold_accuracy, color='r', linestyle='--')\n",
    "plt.xlabel(\"Delta (Perturbation Magnitude)\")\n",
    "plt.ylabel(\"Model Accuracy\")\n",
    "plt.title(f\"Model Accuracy vs. Delta\\nMax Delta where Model Fails: {max_delta_fail:.2f}\")\n",
    "plt.grid(True)\n",
    "plt.show()\n",
    "\n",
    "print(f\"Maximum delta value after which the model fails (accuracy <= 10%): {max_delta_fail:.2f}\")"
   ]
  },
  {
   "cell_type": "code",
   "execution_count": null,
   "id": "ce121bb6-a76f-48ff-986e-390ee315fbad",
   "metadata": {},
   "outputs": [],
   "source": []
  }
 ],
 "metadata": {
  "kernelspec": {
   "display_name": "Python (art_kernel)",
   "language": "python",
   "name": "art_kernel"
  },
  "language_info": {
   "codemirror_mode": {
    "name": "ipython",
    "version": 3
   },
   "file_extension": ".py",
   "mimetype": "text/x-python",
   "name": "python",
   "nbconvert_exporter": "python",
   "pygments_lexer": "ipython3",
   "version": "3.12.4"
  }
 },
 "nbformat": 4,
 "nbformat_minor": 5
}
